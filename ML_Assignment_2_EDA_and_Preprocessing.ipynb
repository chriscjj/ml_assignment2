{
 "cells": [
  {
   "cell_type": "markdown",
   "id": "92b4d3f3-17c7-4273-8836-8227c073b780",
   "metadata": {
    "jp-MarkdownHeadingCollapsed": true
   },
   "source": [
    "# Employee"
   ]
  },
  {
   "cell_type": "markdown",
   "id": "ced89f90-c8e0-490a-8531-ffd8b12dafae",
   "metadata": {},
   "source": [
    "# Table of Contents :\n",
    "\n",
    "1. Introduction\n",
    "2. Goal Of the Project\n",
    "3. Data Story\n",
    "4. Data Preprocessing\n"
   ]
  },
  {
   "cell_type": "markdown",
   "id": "fbcd1d46-5676-405f-ba8e-014d05a728ec",
   "metadata": {},
   "source": [
    "# 1.Introduction\n",
    "\n",
    "In any data-driven project, raw data often contains inconsistencies, missing values, outliers, and noise. These issues can significantly impact the performance of machine learning models. This project focuses on implementing a robust data preprocessing pipeline to ensure clean, reliable, and high-quality data for analysis and predictive modeling."
   ]
  },
  {
   "cell_type": "markdown",
   "id": "66e694a9-fd88-45fa-ab98-fb342425de68",
   "metadata": {},
   "source": [
    "# 2.Goal of the project\n",
    "\n",
    "The main objective is to design and implement an efficient data preprocessing system that addresses:\n",
    " - Missing values\n",
    " - Outliers\n",
    " - Inconsistent formatting\n",
    " - Noise in data"
   ]
  },
  {
   "cell_type": "markdown",
   "id": "3627f855-48aa-4100-bc68-af1381dda30b",
   "metadata": {},
   "source": [
    "# Dataset Source\n",
    "The dataset used in this project is publicly available:\n",
    " Dataset Link: https://drive.google.com/file/d/1F3lRf32JM8ejnXq-Cbf9y7fa57zSHGz_/view"
   ]
  },
  {
   "cell_type": "markdown",
   "id": "b7e667bb-fb09-4741-957f-c03a46b70873",
   "metadata": {},
   "source": [
    "# Tools & Libraries Used\n",
    "This project leverages Python for data preprocessing, using the following libraries:\n",
    "- Pandas – Data manipulation and cleaning\n",
    "- NumPy – Numerical computations\n",
    "- Matplotlib & Seaborn – Data visualization\n",
    "- Scikit-learn – Feature scaling & encoding"
   ]
  },
  {
   "cell_type": "markdown",
   "id": "c963dca4-c50a-41cf-a886-de9d1eb8ab1b",
   "metadata": {},
   "source": [
    "# Features/Columns in the Dataset\n",
    "The dataset contains information about employees from various companies. Key features include:\n",
    "\n",
    "- Company – Name of the company\n",
    "- Age – Age of the employee\n",
    "- Salary – Monthly salary\n",
    "- Place – Location of the employee\n",
    "- Country – Country of the company\n",
    "- Gender – Gender of the employee (encoded as 0 and 1)"
   ]
  },
  {
   "cell_type": "markdown",
   "id": "f4239c55-c8ae-4fa4-a73f-deb53942004c",
   "metadata": {},
   "source": [
    "# **Data Preprocessing**"
   ]
  },
  {
   "cell_type": "markdown",
   "id": "84d7cf4d-ee46-482c-ab8f-5b59b9f01415",
   "metadata": {},
   "source": [
    "**1.Importing Libraries**"
   ]
  },
  {
   "cell_type": "code",
   "execution_count": 161,
   "id": "e888066d-fe42-4426-90a1-9064ed51eb19",
   "metadata": {},
   "outputs": [],
   "source": [
    "import warnings\n",
    "warnings.filterwarnings(\"ignore\")\n",
    "\n",
    "import pandas as pd\n",
    "import numpy as np\n",
    "import seaborn as sns\n",
    "import matplotlib.pyplot as plt\n"
   ]
  },
  {
   "cell_type": "markdown",
   "id": "7b6e3429-c9f8-4a87-b116-d55790bb6221",
   "metadata": {},
   "source": [
    "**2.Load Dataset**"
   ]
  },
  {
   "cell_type": "code",
   "execution_count": 162,
   "id": "497f367d-6085-4669-958e-87bba9881384",
   "metadata": {},
   "outputs": [],
   "source": [
    "df=pd.read_csv(\"Employee.csv\")"
   ]
  },
  {
   "cell_type": "markdown",
   "id": "d5ee7ea8-8562-414d-800c-3830cad53e15",
   "metadata": {},
   "source": [
    "#  Data Exploration:"
   ]
  },
  {
   "cell_type": "code",
   "execution_count": 163,
   "id": "bb2dd3ee-5fcd-4edd-8b62-b11443c6d61f",
   "metadata": {},
   "outputs": [
    {
     "data": {
      "text/html": [
       "<div>\n",
       "<style scoped>\n",
       "    .dataframe tbody tr th:only-of-type {\n",
       "        vertical-align: middle;\n",
       "    }\n",
       "\n",
       "    .dataframe tbody tr th {\n",
       "        vertical-align: top;\n",
       "    }\n",
       "\n",
       "    .dataframe thead th {\n",
       "        text-align: right;\n",
       "    }\n",
       "</style>\n",
       "<table border=\"1\" class=\"dataframe\">\n",
       "  <thead>\n",
       "    <tr style=\"text-align: right;\">\n",
       "      <th></th>\n",
       "      <th>Company</th>\n",
       "      <th>Age</th>\n",
       "      <th>Salary</th>\n",
       "      <th>Place</th>\n",
       "      <th>Country</th>\n",
       "      <th>Gender</th>\n",
       "    </tr>\n",
       "  </thead>\n",
       "  <tbody>\n",
       "    <tr>\n",
       "      <th>0</th>\n",
       "      <td>TCS</td>\n",
       "      <td>20.0</td>\n",
       "      <td>NaN</td>\n",
       "      <td>Chennai</td>\n",
       "      <td>India</td>\n",
       "      <td>0</td>\n",
       "    </tr>\n",
       "    <tr>\n",
       "      <th>1</th>\n",
       "      <td>Infosys</td>\n",
       "      <td>30.0</td>\n",
       "      <td>NaN</td>\n",
       "      <td>Mumbai</td>\n",
       "      <td>India</td>\n",
       "      <td>0</td>\n",
       "    </tr>\n",
       "    <tr>\n",
       "      <th>2</th>\n",
       "      <td>TCS</td>\n",
       "      <td>35.0</td>\n",
       "      <td>2300.0</td>\n",
       "      <td>Calcutta</td>\n",
       "      <td>India</td>\n",
       "      <td>0</td>\n",
       "    </tr>\n",
       "    <tr>\n",
       "      <th>3</th>\n",
       "      <td>Infosys</td>\n",
       "      <td>40.0</td>\n",
       "      <td>3000.0</td>\n",
       "      <td>Delhi</td>\n",
       "      <td>India</td>\n",
       "      <td>0</td>\n",
       "    </tr>\n",
       "    <tr>\n",
       "      <th>4</th>\n",
       "      <td>TCS</td>\n",
       "      <td>23.0</td>\n",
       "      <td>4000.0</td>\n",
       "      <td>Mumbai</td>\n",
       "      <td>India</td>\n",
       "      <td>0</td>\n",
       "    </tr>\n",
       "    <tr>\n",
       "      <th>...</th>\n",
       "      <td>...</td>\n",
       "      <td>...</td>\n",
       "      <td>...</td>\n",
       "      <td>...</td>\n",
       "      <td>...</td>\n",
       "      <td>...</td>\n",
       "    </tr>\n",
       "    <tr>\n",
       "      <th>143</th>\n",
       "      <td>TCS</td>\n",
       "      <td>33.0</td>\n",
       "      <td>9024.0</td>\n",
       "      <td>Calcutta</td>\n",
       "      <td>India</td>\n",
       "      <td>1</td>\n",
       "    </tr>\n",
       "    <tr>\n",
       "      <th>144</th>\n",
       "      <td>Infosys</td>\n",
       "      <td>22.0</td>\n",
       "      <td>8787.0</td>\n",
       "      <td>Calcutta</td>\n",
       "      <td>India</td>\n",
       "      <td>1</td>\n",
       "    </tr>\n",
       "    <tr>\n",
       "      <th>145</th>\n",
       "      <td>Infosys</td>\n",
       "      <td>44.0</td>\n",
       "      <td>4034.0</td>\n",
       "      <td>Delhi</td>\n",
       "      <td>India</td>\n",
       "      <td>1</td>\n",
       "    </tr>\n",
       "    <tr>\n",
       "      <th>146</th>\n",
       "      <td>TCS</td>\n",
       "      <td>33.0</td>\n",
       "      <td>5034.0</td>\n",
       "      <td>Mumbai</td>\n",
       "      <td>India</td>\n",
       "      <td>1</td>\n",
       "    </tr>\n",
       "    <tr>\n",
       "      <th>147</th>\n",
       "      <td>Infosys</td>\n",
       "      <td>22.0</td>\n",
       "      <td>8202.0</td>\n",
       "      <td>Cochin</td>\n",
       "      <td>India</td>\n",
       "      <td>0</td>\n",
       "    </tr>\n",
       "  </tbody>\n",
       "</table>\n",
       "<p>148 rows × 6 columns</p>\n",
       "</div>"
      ],
      "text/plain": [
       "     Company   Age  Salary     Place Country  Gender\n",
       "0        TCS  20.0     NaN   Chennai   India       0\n",
       "1    Infosys  30.0     NaN    Mumbai   India       0\n",
       "2        TCS  35.0  2300.0  Calcutta   India       0\n",
       "3    Infosys  40.0  3000.0     Delhi   India       0\n",
       "4        TCS  23.0  4000.0    Mumbai   India       0\n",
       "..       ...   ...     ...       ...     ...     ...\n",
       "143      TCS  33.0  9024.0  Calcutta   India       1\n",
       "144  Infosys  22.0  8787.0  Calcutta   India       1\n",
       "145  Infosys  44.0  4034.0     Delhi   India       1\n",
       "146      TCS  33.0  5034.0    Mumbai   India       1\n",
       "147  Infosys  22.0  8202.0    Cochin   India       0\n",
       "\n",
       "[148 rows x 6 columns]"
      ]
     },
     "execution_count": 163,
     "metadata": {},
     "output_type": "execute_result"
    }
   ],
   "source": [
    "df"
   ]
  },
  {
   "cell_type": "code",
   "execution_count": 164,
   "id": "3f126a62-6c6a-45dd-a697-591951b1679d",
   "metadata": {},
   "outputs": [
    {
     "data": {
      "text/html": [
       "<div>\n",
       "<style scoped>\n",
       "    .dataframe tbody tr th:only-of-type {\n",
       "        vertical-align: middle;\n",
       "    }\n",
       "\n",
       "    .dataframe tbody tr th {\n",
       "        vertical-align: top;\n",
       "    }\n",
       "\n",
       "    .dataframe thead th {\n",
       "        text-align: right;\n",
       "    }\n",
       "</style>\n",
       "<table border=\"1\" class=\"dataframe\">\n",
       "  <thead>\n",
       "    <tr style=\"text-align: right;\">\n",
       "      <th></th>\n",
       "      <th>Company</th>\n",
       "      <th>Age</th>\n",
       "      <th>Salary</th>\n",
       "      <th>Place</th>\n",
       "      <th>Country</th>\n",
       "      <th>Gender</th>\n",
       "    </tr>\n",
       "  </thead>\n",
       "  <tbody>\n",
       "    <tr>\n",
       "      <th>0</th>\n",
       "      <td>TCS</td>\n",
       "      <td>20.0</td>\n",
       "      <td>NaN</td>\n",
       "      <td>Chennai</td>\n",
       "      <td>India</td>\n",
       "      <td>0</td>\n",
       "    </tr>\n",
       "    <tr>\n",
       "      <th>1</th>\n",
       "      <td>Infosys</td>\n",
       "      <td>30.0</td>\n",
       "      <td>NaN</td>\n",
       "      <td>Mumbai</td>\n",
       "      <td>India</td>\n",
       "      <td>0</td>\n",
       "    </tr>\n",
       "    <tr>\n",
       "      <th>2</th>\n",
       "      <td>TCS</td>\n",
       "      <td>35.0</td>\n",
       "      <td>2300.0</td>\n",
       "      <td>Calcutta</td>\n",
       "      <td>India</td>\n",
       "      <td>0</td>\n",
       "    </tr>\n",
       "    <tr>\n",
       "      <th>3</th>\n",
       "      <td>Infosys</td>\n",
       "      <td>40.0</td>\n",
       "      <td>3000.0</td>\n",
       "      <td>Delhi</td>\n",
       "      <td>India</td>\n",
       "      <td>0</td>\n",
       "    </tr>\n",
       "    <tr>\n",
       "      <th>4</th>\n",
       "      <td>TCS</td>\n",
       "      <td>23.0</td>\n",
       "      <td>4000.0</td>\n",
       "      <td>Mumbai</td>\n",
       "      <td>India</td>\n",
       "      <td>0</td>\n",
       "    </tr>\n",
       "  </tbody>\n",
       "</table>\n",
       "</div>"
      ],
      "text/plain": [
       "   Company   Age  Salary     Place Country  Gender\n",
       "0      TCS  20.0     NaN   Chennai   India       0\n",
       "1  Infosys  30.0     NaN    Mumbai   India       0\n",
       "2      TCS  35.0  2300.0  Calcutta   India       0\n",
       "3  Infosys  40.0  3000.0     Delhi   India       0\n",
       "4      TCS  23.0  4000.0    Mumbai   India       0"
      ]
     },
     "execution_count": 164,
     "metadata": {},
     "output_type": "execute_result"
    }
   ],
   "source": [
    "df.head()"
   ]
  },
  {
   "cell_type": "code",
   "execution_count": 165,
   "id": "f927fbfb-1c00-4de3-918b-99ad68f714db",
   "metadata": {},
   "outputs": [
    {
     "data": {
      "text/html": [
       "<div>\n",
       "<style scoped>\n",
       "    .dataframe tbody tr th:only-of-type {\n",
       "        vertical-align: middle;\n",
       "    }\n",
       "\n",
       "    .dataframe tbody tr th {\n",
       "        vertical-align: top;\n",
       "    }\n",
       "\n",
       "    .dataframe thead th {\n",
       "        text-align: right;\n",
       "    }\n",
       "</style>\n",
       "<table border=\"1\" class=\"dataframe\">\n",
       "  <thead>\n",
       "    <tr style=\"text-align: right;\">\n",
       "      <th></th>\n",
       "      <th>Company</th>\n",
       "      <th>Age</th>\n",
       "      <th>Salary</th>\n",
       "      <th>Place</th>\n",
       "      <th>Country</th>\n",
       "      <th>Gender</th>\n",
       "    </tr>\n",
       "  </thead>\n",
       "  <tbody>\n",
       "    <tr>\n",
       "      <th>143</th>\n",
       "      <td>TCS</td>\n",
       "      <td>33.0</td>\n",
       "      <td>9024.0</td>\n",
       "      <td>Calcutta</td>\n",
       "      <td>India</td>\n",
       "      <td>1</td>\n",
       "    </tr>\n",
       "    <tr>\n",
       "      <th>144</th>\n",
       "      <td>Infosys</td>\n",
       "      <td>22.0</td>\n",
       "      <td>8787.0</td>\n",
       "      <td>Calcutta</td>\n",
       "      <td>India</td>\n",
       "      <td>1</td>\n",
       "    </tr>\n",
       "    <tr>\n",
       "      <th>145</th>\n",
       "      <td>Infosys</td>\n",
       "      <td>44.0</td>\n",
       "      <td>4034.0</td>\n",
       "      <td>Delhi</td>\n",
       "      <td>India</td>\n",
       "      <td>1</td>\n",
       "    </tr>\n",
       "    <tr>\n",
       "      <th>146</th>\n",
       "      <td>TCS</td>\n",
       "      <td>33.0</td>\n",
       "      <td>5034.0</td>\n",
       "      <td>Mumbai</td>\n",
       "      <td>India</td>\n",
       "      <td>1</td>\n",
       "    </tr>\n",
       "    <tr>\n",
       "      <th>147</th>\n",
       "      <td>Infosys</td>\n",
       "      <td>22.0</td>\n",
       "      <td>8202.0</td>\n",
       "      <td>Cochin</td>\n",
       "      <td>India</td>\n",
       "      <td>0</td>\n",
       "    </tr>\n",
       "  </tbody>\n",
       "</table>\n",
       "</div>"
      ],
      "text/plain": [
       "     Company   Age  Salary     Place Country  Gender\n",
       "143      TCS  33.0  9024.0  Calcutta   India       1\n",
       "144  Infosys  22.0  8787.0  Calcutta   India       1\n",
       "145  Infosys  44.0  4034.0     Delhi   India       1\n",
       "146      TCS  33.0  5034.0    Mumbai   India       1\n",
       "147  Infosys  22.0  8202.0    Cochin   India       0"
      ]
     },
     "execution_count": 165,
     "metadata": {},
     "output_type": "execute_result"
    }
   ],
   "source": [
    "df.tail()"
   ]
  },
  {
   "cell_type": "code",
   "execution_count": 166,
   "id": "9ff784ad-ed7d-4086-a20a-6cb68ee7fcc6",
   "metadata": {},
   "outputs": [
    {
     "name": "stdout",
     "output_type": "stream",
     "text": [
      "<class 'pandas.core.frame.DataFrame'>\n",
      "RangeIndex: 148 entries, 0 to 147\n",
      "Data columns (total 6 columns):\n",
      " #   Column   Non-Null Count  Dtype  \n",
      "---  ------   --------------  -----  \n",
      " 0   Company  140 non-null    object \n",
      " 1   Age      130 non-null    float64\n",
      " 2   Salary   124 non-null    float64\n",
      " 3   Place    134 non-null    object \n",
      " 4   Country  148 non-null    object \n",
      " 5   Gender   148 non-null    int64  \n",
      "dtypes: float64(2), int64(1), object(3)\n",
      "memory usage: 7.1+ KB\n"
     ]
    }
   ],
   "source": [
    "df.info()"
   ]
  },
  {
   "cell_type": "code",
   "execution_count": 167,
   "id": "b577d5a6-e12d-4664-9895-eefff78466d8",
   "metadata": {},
   "outputs": [
    {
     "data": {
      "text/plain": [
       "(148, 6)"
      ]
     },
     "execution_count": 167,
     "metadata": {},
     "output_type": "execute_result"
    }
   ],
   "source": [
    "df.shape"
   ]
  },
  {
   "cell_type": "code",
   "execution_count": 168,
   "id": "8120555f-43b5-4709-9f1c-4ac35bfb2b3b",
   "metadata": {},
   "outputs": [
    {
     "data": {
      "text/html": [
       "<div>\n",
       "<style scoped>\n",
       "    .dataframe tbody tr th:only-of-type {\n",
       "        vertical-align: middle;\n",
       "    }\n",
       "\n",
       "    .dataframe tbody tr th {\n",
       "        vertical-align: top;\n",
       "    }\n",
       "\n",
       "    .dataframe thead th {\n",
       "        text-align: right;\n",
       "    }\n",
       "</style>\n",
       "<table border=\"1\" class=\"dataframe\">\n",
       "  <thead>\n",
       "    <tr style=\"text-align: right;\">\n",
       "      <th></th>\n",
       "      <th>Age</th>\n",
       "      <th>Salary</th>\n",
       "      <th>Gender</th>\n",
       "    </tr>\n",
       "  </thead>\n",
       "  <tbody>\n",
       "    <tr>\n",
       "      <th>count</th>\n",
       "      <td>130.000000</td>\n",
       "      <td>124.000000</td>\n",
       "      <td>148.000000</td>\n",
       "    </tr>\n",
       "    <tr>\n",
       "      <th>mean</th>\n",
       "      <td>30.484615</td>\n",
       "      <td>5312.467742</td>\n",
       "      <td>0.222973</td>\n",
       "    </tr>\n",
       "    <tr>\n",
       "      <th>std</th>\n",
       "      <td>11.096640</td>\n",
       "      <td>2573.764683</td>\n",
       "      <td>0.417654</td>\n",
       "    </tr>\n",
       "    <tr>\n",
       "      <th>min</th>\n",
       "      <td>0.000000</td>\n",
       "      <td>1089.000000</td>\n",
       "      <td>0.000000</td>\n",
       "    </tr>\n",
       "    <tr>\n",
       "      <th>25%</th>\n",
       "      <td>22.000000</td>\n",
       "      <td>3030.000000</td>\n",
       "      <td>0.000000</td>\n",
       "    </tr>\n",
       "    <tr>\n",
       "      <th>50%</th>\n",
       "      <td>32.500000</td>\n",
       "      <td>5000.000000</td>\n",
       "      <td>0.000000</td>\n",
       "    </tr>\n",
       "    <tr>\n",
       "      <th>75%</th>\n",
       "      <td>37.750000</td>\n",
       "      <td>8000.000000</td>\n",
       "      <td>0.000000</td>\n",
       "    </tr>\n",
       "    <tr>\n",
       "      <th>max</th>\n",
       "      <td>54.000000</td>\n",
       "      <td>9876.000000</td>\n",
       "      <td>1.000000</td>\n",
       "    </tr>\n",
       "  </tbody>\n",
       "</table>\n",
       "</div>"
      ],
      "text/plain": [
       "              Age       Salary      Gender\n",
       "count  130.000000   124.000000  148.000000\n",
       "mean    30.484615  5312.467742    0.222973\n",
       "std     11.096640  2573.764683    0.417654\n",
       "min      0.000000  1089.000000    0.000000\n",
       "25%     22.000000  3030.000000    0.000000\n",
       "50%     32.500000  5000.000000    0.000000\n",
       "75%     37.750000  8000.000000    0.000000\n",
       "max     54.000000  9876.000000    1.000000"
      ]
     },
     "execution_count": 168,
     "metadata": {},
     "output_type": "execute_result"
    }
   ],
   "source": [
    "df.describe()"
   ]
  },
  {
   "cell_type": "markdown",
   "id": "8af4fb98-3c7b-4a4b-925c-ac992666867b",
   "metadata": {},
   "source": [
    "**4.Handling missing dataset**"
   ]
  },
  {
   "cell_type": "code",
   "execution_count": 169,
   "id": "f6da7cd7-dc13-44fe-aa0b-48ce9c91df06",
   "metadata": {},
   "outputs": [
    {
     "name": "stdout",
     "output_type": "stream",
     "text": [
      "missing values are \n",
      "Company     8\n",
      "Age        18\n",
      "Salary     24\n",
      "Place      14\n",
      "Country     0\n",
      "Gender      0\n",
      "dtype: int64\n"
     ]
    }
   ],
   "source": [
    "missing_dataset=df.isnull().sum()\n",
    "print(\"missing values are \")\n",
    "print(missing_dataset)"
   ]
  },
  {
   "cell_type": "code",
   "execution_count": 170,
   "id": "6d1e3503-2758-46a0-958c-1a614cd05335",
   "metadata": {},
   "outputs": [
    {
     "name": "stdout",
     "output_type": "stream",
     "text": [
      "Feature: Company\n",
      "Unique Values: ['TCS' 'Infosys' 'CTS' nan 'Tata Consultancy Services' 'Congnizant'\n",
      " 'Infosys Pvt Lmt']\n",
      "Number of Unique Values: 6\n",
      "--------------------------------------------------\n",
      "Feature: Age\n",
      "Unique Values: [20. 30. 35. 40. 23. nan 34. 45. 18. 22. 32. 37. 50. 21. 46. 36. 26. 41.\n",
      " 24. 25. 43. 19. 38. 51. 31. 44. 33. 17.  0. 54.]\n",
      "Number of Unique Values: 29\n",
      "--------------------------------------------------\n",
      "Feature: Salary\n",
      "Unique Values: [  nan 2300. 3000. 4000. 5000. 6000. 7000. 8000. 9000. 1089. 1234. 3030.\n",
      " 3045. 3184. 4824. 5835. 7084. 8943. 8345. 9284. 9876. 2034. 7654. 2934.\n",
      " 4034. 5034. 8202. 9024. 4345. 6544. 6543. 3234. 4324. 5435. 5555. 8787.\n",
      " 3454. 5654. 5009. 5098. 3033.]\n",
      "Number of Unique Values: 40\n",
      "--------------------------------------------------\n",
      "Feature: Place\n",
      "Unique Values: ['Chennai' 'Mumbai' 'Calcutta' 'Delhi' 'Podicherry' 'Cochin' nan 'Noida'\n",
      " 'Hyderabad' 'Bhopal' 'Nagpur' 'Pune']\n",
      "Number of Unique Values: 11\n",
      "--------------------------------------------------\n",
      "Feature: Country\n",
      "Unique Values: ['India']\n",
      "Number of Unique Values: 1\n",
      "--------------------------------------------------\n",
      "Feature: Gender\n",
      "Unique Values: [0 1]\n",
      "Number of Unique Values: 2\n",
      "--------------------------------------------------\n"
     ]
    }
   ],
   "source": [
    "for column in df.columns:\n",
    "    print(f\"Feature: {column}\")\n",
    "    print(f\"Unique Values: {df[column].unique()}\")\n",
    "    print(f\"Number of Unique Values: {df[column].nunique()}\")\n",
    "    print(\"-\" * 50)\n"
   ]
  },
  {
   "cell_type": "markdown",
   "id": "d2677ef7-d330-45dd-a4bd-84d42312c74e",
   "metadata": {},
   "source": [
    "names of columns are consitent "
   ]
  },
  {
   "cell_type": "code",
   "execution_count": 205,
   "id": "63736bef-a3cb-46bb-a14b-1590497d3b97",
   "metadata": {},
   "outputs": [],
   "source": [
    "df_new=df.copy()"
   ]
  },
  {
   "cell_type": "code",
   "execution_count": 206,
   "id": "9f9a0d61-c064-461f-9402-3b241cb19ae6",
   "metadata": {},
   "outputs": [
    {
     "data": {
      "text/html": [
       "<div>\n",
       "<style scoped>\n",
       "    .dataframe tbody tr th:only-of-type {\n",
       "        vertical-align: middle;\n",
       "    }\n",
       "\n",
       "    .dataframe tbody tr th {\n",
       "        vertical-align: top;\n",
       "    }\n",
       "\n",
       "    .dataframe thead th {\n",
       "        text-align: right;\n",
       "    }\n",
       "</style>\n",
       "<table border=\"1\" class=\"dataframe\">\n",
       "  <thead>\n",
       "    <tr style=\"text-align: right;\">\n",
       "      <th></th>\n",
       "      <th>Company</th>\n",
       "      <th>Age</th>\n",
       "      <th>Salary</th>\n",
       "      <th>Place</th>\n",
       "      <th>Country</th>\n",
       "      <th>Gender</th>\n",
       "    </tr>\n",
       "  </thead>\n",
       "  <tbody>\n",
       "    <tr>\n",
       "      <th>0</th>\n",
       "      <td>TCS</td>\n",
       "      <td>20.0</td>\n",
       "      <td>NaN</td>\n",
       "      <td>Chennai</td>\n",
       "      <td>India</td>\n",
       "      <td>0</td>\n",
       "    </tr>\n",
       "    <tr>\n",
       "      <th>1</th>\n",
       "      <td>Infosys</td>\n",
       "      <td>30.0</td>\n",
       "      <td>NaN</td>\n",
       "      <td>Mumbai</td>\n",
       "      <td>India</td>\n",
       "      <td>0</td>\n",
       "    </tr>\n",
       "    <tr>\n",
       "      <th>2</th>\n",
       "      <td>TCS</td>\n",
       "      <td>35.0</td>\n",
       "      <td>2300.0</td>\n",
       "      <td>Calcutta</td>\n",
       "      <td>India</td>\n",
       "      <td>0</td>\n",
       "    </tr>\n",
       "    <tr>\n",
       "      <th>3</th>\n",
       "      <td>Infosys</td>\n",
       "      <td>40.0</td>\n",
       "      <td>3000.0</td>\n",
       "      <td>Delhi</td>\n",
       "      <td>India</td>\n",
       "      <td>0</td>\n",
       "    </tr>\n",
       "    <tr>\n",
       "      <th>4</th>\n",
       "      <td>TCS</td>\n",
       "      <td>23.0</td>\n",
       "      <td>4000.0</td>\n",
       "      <td>Mumbai</td>\n",
       "      <td>India</td>\n",
       "      <td>0</td>\n",
       "    </tr>\n",
       "    <tr>\n",
       "      <th>...</th>\n",
       "      <td>...</td>\n",
       "      <td>...</td>\n",
       "      <td>...</td>\n",
       "      <td>...</td>\n",
       "      <td>...</td>\n",
       "      <td>...</td>\n",
       "    </tr>\n",
       "    <tr>\n",
       "      <th>143</th>\n",
       "      <td>TCS</td>\n",
       "      <td>33.0</td>\n",
       "      <td>9024.0</td>\n",
       "      <td>Calcutta</td>\n",
       "      <td>India</td>\n",
       "      <td>1</td>\n",
       "    </tr>\n",
       "    <tr>\n",
       "      <th>144</th>\n",
       "      <td>Infosys</td>\n",
       "      <td>22.0</td>\n",
       "      <td>8787.0</td>\n",
       "      <td>Calcutta</td>\n",
       "      <td>India</td>\n",
       "      <td>1</td>\n",
       "    </tr>\n",
       "    <tr>\n",
       "      <th>145</th>\n",
       "      <td>Infosys</td>\n",
       "      <td>44.0</td>\n",
       "      <td>4034.0</td>\n",
       "      <td>Delhi</td>\n",
       "      <td>India</td>\n",
       "      <td>1</td>\n",
       "    </tr>\n",
       "    <tr>\n",
       "      <th>146</th>\n",
       "      <td>TCS</td>\n",
       "      <td>33.0</td>\n",
       "      <td>5034.0</td>\n",
       "      <td>Mumbai</td>\n",
       "      <td>India</td>\n",
       "      <td>1</td>\n",
       "    </tr>\n",
       "    <tr>\n",
       "      <th>147</th>\n",
       "      <td>Infosys</td>\n",
       "      <td>22.0</td>\n",
       "      <td>8202.0</td>\n",
       "      <td>Cochin</td>\n",
       "      <td>India</td>\n",
       "      <td>0</td>\n",
       "    </tr>\n",
       "  </tbody>\n",
       "</table>\n",
       "<p>148 rows × 6 columns</p>\n",
       "</div>"
      ],
      "text/plain": [
       "     Company   Age  Salary     Place Country  Gender\n",
       "0        TCS  20.0     NaN   Chennai   India       0\n",
       "1    Infosys  30.0     NaN    Mumbai   India       0\n",
       "2        TCS  35.0  2300.0  Calcutta   India       0\n",
       "3    Infosys  40.0  3000.0     Delhi   India       0\n",
       "4        TCS  23.0  4000.0    Mumbai   India       0\n",
       "..       ...   ...     ...       ...     ...     ...\n",
       "143      TCS  33.0  9024.0  Calcutta   India       1\n",
       "144  Infosys  22.0  8787.0  Calcutta   India       1\n",
       "145  Infosys  44.0  4034.0     Delhi   India       1\n",
       "146      TCS  33.0  5034.0    Mumbai   India       1\n",
       "147  Infosys  22.0  8202.0    Cochin   India       0\n",
       "\n",
       "[148 rows x 6 columns]"
      ]
     },
     "execution_count": 206,
     "metadata": {},
     "output_type": "execute_result"
    }
   ],
   "source": [
    "df_new"
   ]
  },
  {
   "cell_type": "code",
   "execution_count": 259,
   "id": "f44472ee-f1fb-4f40-a49b-101360592c50",
   "metadata": {},
   "outputs": [],
   "source": [
    "df_new.dropna(subset=['Company','Place',],inplace=True)\n",
    "df_new.drop(['Country'], axis=1,inplace=True)"
   ]
  },
  {
   "cell_type": "code",
   "execution_count": 260,
   "id": "ca5500df-a288-470a-a1e5-c0fea93162ff",
   "metadata": {},
   "outputs": [
    {
     "data": {
      "text/plain": [
       "Company    0\n",
       "Age        0\n",
       "Salary     0\n",
       "Place      0\n",
       "Gender     0\n",
       "dtype: int64"
      ]
     },
     "execution_count": 260,
     "metadata": {},
     "output_type": "execute_result"
    }
   ],
   "source": [
    "df_new.isnull().sum()"
   ]
  },
  {
   "cell_type": "code",
   "execution_count": 261,
   "id": "0568c49e-2cb8-46a6-b81f-3ca3e63d2c07",
   "metadata": {},
   "outputs": [],
   "source": [
    "df_new['Age'].replace(0,np.nan,inplace=True)"
   ]
  },
  {
   "cell_type": "code",
   "execution_count": 262,
   "id": "bdf4bcc0-0619-43ac-8998-1967116495dc",
   "metadata": {},
   "outputs": [],
   "source": [
    "df_new['Age'].fillna(df_new['Age'].median(),inplace=True)"
   ]
  },
  {
   "cell_type": "code",
   "execution_count": 263,
   "id": "7c6f6681-dc34-4511-8324-6b687b290a38",
   "metadata": {},
   "outputs": [
    {
     "data": {
      "text/plain": [
       "Company    0\n",
       "Age        0\n",
       "Salary     0\n",
       "Place      0\n",
       "Gender     0\n",
       "dtype: int64"
      ]
     },
     "execution_count": 263,
     "metadata": {},
     "output_type": "execute_result"
    }
   ],
   "source": [
    "df_new.isnull().sum()"
   ]
  },
  {
   "cell_type": "code",
   "execution_count": 264,
   "id": "bfdb12ea-5ade-4efc-8574-1dcc47acf326",
   "metadata": {},
   "outputs": [],
   "source": [
    "df_new['Salary']=df_new.groupby('Company')['Salary'].transform(lambda x: x.fillna(x.median()))"
   ]
  },
  {
   "cell_type": "code",
   "execution_count": 265,
   "id": "d083ba92-201f-4e79-b1b6-e1028aeaf0bc",
   "metadata": {},
   "outputs": [
    {
     "data": {
      "text/plain": [
       "Company    0\n",
       "Age        0\n",
       "Salary     0\n",
       "Place      0\n",
       "Gender     0\n",
       "dtype: int64"
      ]
     },
     "execution_count": 265,
     "metadata": {},
     "output_type": "execute_result"
    }
   ],
   "source": [
    "df_new.isnull().sum()"
   ]
  },
  {
   "cell_type": "code",
   "execution_count": 266,
   "id": "7f002cd7-1584-4816-b2e8-0b09e93be5e1",
   "metadata": {},
   "outputs": [
    {
     "name": "stdout",
     "output_type": "stream",
     "text": [
      "Unique values in 'Company':\n",
      " ['TCS' 'Infosys' 'Congnizant']\n",
      "Unique values in 'Place':\n",
      " ['Chennai' 'Mumbai' 'Calcutta' 'Delhi' 'Podicherry' 'Cochin' 'Noida'\n",
      " 'Hyderabad' 'Bhopal' 'Nagpur' 'Pune']\n"
     ]
    }
   ],
   "source": [
    "print(\"Unique values in 'Company':\\n\", df_new['Company'].unique())\n",
    "print(\"Unique values in 'Place':\\n\", df_new['Place'].unique())"
   ]
  },
  {
   "cell_type": "code",
   "execution_count": 267,
   "id": "12b18ef1-2306-4e81-b34a-324d9f025a6a",
   "metadata": {},
   "outputs": [],
   "source": [
    "df_new.replace('Tata Consultancy Services','TCS',inplace=True)\n",
    "df_new.replace('CTS','TCS',inplace=True)\n",
    "df_new.replace('Infosys Pvt Lmt','Infosys',inplace=True)"
   ]
  },
  {
   "cell_type": "code",
   "execution_count": 268,
   "id": "64ca8f0d-75ce-49fe-80be-636f46e3feb5",
   "metadata": {},
   "outputs": [
    {
     "name": "stdout",
     "output_type": "stream",
     "text": [
      "Unique values in 'Company':\n",
      " ['TCS' 'Infosys' 'Congnizant']\n",
      "Unique values in 'Place':\n",
      " ['Chennai' 'Mumbai' 'Calcutta' 'Delhi' 'Podicherry' 'Cochin' 'Noida'\n",
      " 'Hyderabad' 'Bhopal' 'Nagpur' 'Pune']\n"
     ]
    }
   ],
   "source": [
    "print(\"Unique values in 'Company':\\n\", df_new['Company'].unique())\n",
    "print(\"Unique values in 'Place':\\n\", df_new['Place'].unique())"
   ]
  },
  {
   "cell_type": "code",
   "execution_count": 269,
   "id": "9e945d8f-cf32-4145-949d-2982ac486a04",
   "metadata": {},
   "outputs": [],
   "source": [
    "df_new = df_new.drop_duplicates()\n"
   ]
  },
  {
   "cell_type": "code",
   "execution_count": 270,
   "id": "a5d7aae1-4354-43e0-9552-2b4ff642f832",
   "metadata": {},
   "outputs": [
    {
     "data": {
      "text/plain": [
       "0"
      ]
     },
     "execution_count": 270,
     "metadata": {},
     "output_type": "execute_result"
    }
   ],
   "source": [
    "df_new.duplicated().sum()"
   ]
  },
  {
   "cell_type": "code",
   "execution_count": 271,
   "id": "23c7b540-6bc0-4b92-a285-61ead8dfe85d",
   "metadata": {},
   "outputs": [
    {
     "data": {
      "text/html": [
       "<div>\n",
       "<style scoped>\n",
       "    .dataframe tbody tr th:only-of-type {\n",
       "        vertical-align: middle;\n",
       "    }\n",
       "\n",
       "    .dataframe tbody tr th {\n",
       "        vertical-align: top;\n",
       "    }\n",
       "\n",
       "    .dataframe thead th {\n",
       "        text-align: right;\n",
       "    }\n",
       "</style>\n",
       "<table border=\"1\" class=\"dataframe\">\n",
       "  <thead>\n",
       "    <tr style=\"text-align: right;\">\n",
       "      <th></th>\n",
       "      <th>Age</th>\n",
       "      <th>Salary</th>\n",
       "      <th>Gender</th>\n",
       "    </tr>\n",
       "  </thead>\n",
       "  <tbody>\n",
       "    <tr>\n",
       "      <th>count</th>\n",
       "      <td>123.000000</td>\n",
       "      <td>123.000000</td>\n",
       "      <td>123.000000</td>\n",
       "    </tr>\n",
       "    <tr>\n",
       "      <th>mean</th>\n",
       "      <td>32.430894</td>\n",
       "      <td>4761.333333</td>\n",
       "      <td>0.195122</td>\n",
       "    </tr>\n",
       "    <tr>\n",
       "      <th>std</th>\n",
       "      <td>8.504658</td>\n",
       "      <td>2476.652228</td>\n",
       "      <td>0.397915</td>\n",
       "    </tr>\n",
       "    <tr>\n",
       "      <th>min</th>\n",
       "      <td>17.000000</td>\n",
       "      <td>1089.000000</td>\n",
       "      <td>0.000000</td>\n",
       "    </tr>\n",
       "    <tr>\n",
       "      <th>25%</th>\n",
       "      <td>23.000000</td>\n",
       "      <td>3000.000000</td>\n",
       "      <td>0.000000</td>\n",
       "    </tr>\n",
       "    <tr>\n",
       "      <th>50%</th>\n",
       "      <td>33.000000</td>\n",
       "      <td>4034.000000</td>\n",
       "      <td>0.000000</td>\n",
       "    </tr>\n",
       "    <tr>\n",
       "      <th>75%</th>\n",
       "      <td>37.000000</td>\n",
       "      <td>7000.000000</td>\n",
       "      <td>0.000000</td>\n",
       "    </tr>\n",
       "    <tr>\n",
       "      <th>max</th>\n",
       "      <td>54.000000</td>\n",
       "      <td>9876.000000</td>\n",
       "      <td>1.000000</td>\n",
       "    </tr>\n",
       "  </tbody>\n",
       "</table>\n",
       "</div>"
      ],
      "text/plain": [
       "              Age       Salary      Gender\n",
       "count  123.000000   123.000000  123.000000\n",
       "mean    32.430894  4761.333333    0.195122\n",
       "std      8.504658  2476.652228    0.397915\n",
       "min     17.000000  1089.000000    0.000000\n",
       "25%     23.000000  3000.000000    0.000000\n",
       "50%     33.000000  4034.000000    0.000000\n",
       "75%     37.000000  7000.000000    0.000000\n",
       "max     54.000000  9876.000000    1.000000"
      ]
     },
     "execution_count": 271,
     "metadata": {},
     "output_type": "execute_result"
    }
   ],
   "source": [
    "df_new.describe()"
   ]
  },
  {
   "cell_type": "code",
   "execution_count": 272,
   "id": "96e261cb-9dc7-4296-bd47-7217f0b8581a",
   "metadata": {},
   "outputs": [
    {
     "name": "stdout",
     "output_type": "stream",
     "text": [
      "Feature: Company\n",
      "Unique Values: ['TCS' 'Infosys' 'Congnizant']\n",
      "Number of Unique Values: 3\n",
      "--------------------------------------------------\n",
      "Feature: Age\n",
      "Unique Values: [20. 30. 35. 40. 23. 33. 34. 45. 18. 22. 32. 37. 50. 21. 46. 41. 24. 43.\n",
      " 19. 38. 51. 31. 44. 26. 17. 36. 54.]\n",
      "Number of Unique Values: 27\n",
      "--------------------------------------------------\n",
      "Feature: Salary\n",
      "Unique Values: [5000. 4034. 2300. 3000. 4000. 6000. 7000. 8000. 9000. 2034. 1089. 1234.\n",
      " 3030. 3045. 3184. 4824. 5835. 7084. 8943. 8345. 9284. 9876. 7654. 2934.\n",
      " 4345. 6544. 5034. 8202. 9024. 3234. 4324. 5435. 5555. 8787. 5098. 3033.]\n",
      "Number of Unique Values: 36\n",
      "--------------------------------------------------\n",
      "Feature: Place\n",
      "Unique Values: ['Chennai' 'Mumbai' 'Calcutta' 'Delhi' 'Podicherry' 'Cochin' 'Noida'\n",
      " 'Hyderabad' 'Bhopal' 'Nagpur' 'Pune']\n",
      "Number of Unique Values: 11\n",
      "--------------------------------------------------\n",
      "Feature: Gender\n",
      "Unique Values: [0 1]\n",
      "Number of Unique Values: 2\n",
      "--------------------------------------------------\n"
     ]
    }
   ],
   "source": [
    "for column in df_new.columns:\n",
    "    print(f\"Feature: {column}\")\n",
    "    print(f\"Unique Values: {df_new[column].unique()}\")\n",
    "    print(f\"Number of Unique Values: {df_new[column].nunique()}\")\n",
    "    print(\"-\" * 50)\n"
   ]
  },
  {
   "cell_type": "markdown",
   "id": "0704dade-9c24-495d-bfcd-c54f6737f760",
   "metadata": {},
   "source": [
    "names of columns are consitent "
   ]
  },
  {
   "cell_type": "code",
   "execution_count": 273,
   "id": "96ee7008-22af-46b1-9b05-a12afa295443",
   "metadata": {},
   "outputs": [
    {
     "data": {
      "text/plain": [
       "Age       0.204078\n",
       "Salary    0.468174\n",
       "Gender    1.557705\n",
       "dtype: float64"
      ]
     },
     "execution_count": 273,
     "metadata": {},
     "output_type": "execute_result"
    }
   ],
   "source": [
    "df_new.skew(numeric_only=True)"
   ]
  },
  {
   "cell_type": "code",
   "execution_count": 274,
   "id": "941a8eee-b63a-460e-8ee5-cd5221924571",
   "metadata": {},
   "outputs": [
    {
     "data": {
      "image/png": "[encoded data removed]",
      "text/plain": [
       "<Figure size 640x480 with 1 Axes>"
      ]
     },
     "metadata": {},
     "output_type": "display_data"
    }
   ],
   "source": [
    "import matplotlib.pyplot as plt\n",
    "\n",
    "# Create histogram for the column\n",
    "df_new['Age'].hist(bins=30, edgecolor='black')\n",
    "\n",
    "# Add title and labels\n",
    "plt.title('Histogram of column_name')\n",
    "plt.xlabel('Value')\n",
    "plt.ylabel('Frequency')\n",
    "\n",
    "plt.show()\n"
   ]
  },
  {
   "cell_type": "markdown",
   "id": "fbedbe93-dd26-4934-baab-f3edd159db9b",
   "metadata": {},
   "source": [
    "# IQR method of finding outliers"
   ]
  },
  {
   "cell_type": "code",
   "execution_count": 275,
   "id": "ee7cf5c9-fdf8-436b-8a4a-628b7a9946d3",
   "metadata": {},
   "outputs": [
    {
     "name": "stdout",
     "output_type": "stream",
     "text": [
      "Outlier\n",
      "Empty DataFrame\n",
      "Columns: [Company, Age, Salary, Place, Gender]\n",
      "Index: []\n"
     ]
    }
   ],
   "source": [
    "Q1=df_new['Age'].quantile(0.25)\n",
    "Q3=df_new['Age'].quantile(0.75)\n",
    "IQR=Q3-Q1\n",
    "\n",
    "lower_bound=Q1-1.5*IQR\n",
    "higher_bound=Q3+1.5*IQR\n",
    "outlier=df_new[(df_new['Age']<lower_bound) | (df_new['Age']>higher_bound)]\n",
    "print(\"Outlier\")\n",
    "print(outlier)"
   ]
  },
  {
   "cell_type": "markdown",
   "id": "6985be7c-3fa5-46ad-9f9b-1956b5629ef3",
   "metadata": {},
   "source": [
    "z-scoremethod"
   ]
  },
  {
   "cell_type": "markdown",
   "id": "9eb853fa-2c45-46d5-ac52-c2176ffc092b",
   "metadata": {},
   "source": [
    "outlier removal is not requied because data cleaning was done and data is small"
   ]
  },
  {
   "cell_type": "code",
   "execution_count": 276,
   "id": "e74c0734-7786-4ac7-93a4-42967ee3bd22",
   "metadata": {},
   "outputs": [
    {
     "name": "stdout",
     "output_type": "stream",
     "text": [
      "<class 'pandas.core.frame.DataFrame'>\n",
      "Index: 123 entries, 0 to 147\n",
      "Data columns (total 5 columns):\n",
      " #   Column   Non-Null Count  Dtype  \n",
      "---  ------   --------------  -----  \n",
      " 0   Company  123 non-null    object \n",
      " 1   Age      123 non-null    float64\n",
      " 2   Salary   123 non-null    float64\n",
      " 3   Place    123 non-null    object \n",
      " 4   Gender   123 non-null    int64  \n",
      "dtypes: float64(2), int64(1), object(2)\n",
      "memory usage: 9.8+ KB\n"
     ]
    }
   ],
   "source": [
    "df_new.info()"
   ]
  },
  {
   "cell_type": "markdown",
   "id": "da467d25-7228-4caa-96ae-a83f54b53c5f",
   "metadata": {},
   "source": [
    "Filter the data with age >40 and salary<5000\n",
    "Plot the chart with age and salary\n",
    "Count the number of people from each place and represent it visually\n"
   ]
  },
  {
   "cell_type": "code",
   "execution_count": 277,
   "id": "8fc6db7f-b0a1-4fee-84d9-9e2df992ab8f",
   "metadata": {},
   "outputs": [],
   "source": [
    "filtered_data = df[(df['Age'] > 40) & (df['Salary'] < 5000)]"
   ]
  },
  {
   "cell_type": "code",
   "execution_count": 278,
   "id": "54a90b30-74eb-4b0a-bb98-128369d179e1",
   "metadata": {},
   "outputs": [
    {
     "data": {
      "text/html": [
       "<div>\n",
       "<style scoped>\n",
       "    .dataframe tbody tr th:only-of-type {\n",
       "        vertical-align: middle;\n",
       "    }\n",
       "\n",
       "    .dataframe tbody tr th {\n",
       "        vertical-align: top;\n",
       "    }\n",
       "\n",
       "    .dataframe thead th {\n",
       "        text-align: right;\n",
       "    }\n",
       "</style>\n",
       "<table border=\"1\" class=\"dataframe\">\n",
       "  <thead>\n",
       "    <tr style=\"text-align: right;\">\n",
       "      <th></th>\n",
       "      <th>Company</th>\n",
       "      <th>Age</th>\n",
       "      <th>Salary</th>\n",
       "      <th>Place</th>\n",
       "      <th>Country</th>\n",
       "      <th>Gender</th>\n",
       "    </tr>\n",
       "  </thead>\n",
       "  <tbody>\n",
       "    <tr>\n",
       "      <th>21</th>\n",
       "      <td>Infosys</td>\n",
       "      <td>50.0</td>\n",
       "      <td>3184.0</td>\n",
       "      <td>Delhi</td>\n",
       "      <td>India</td>\n",
       "      <td>0</td>\n",
       "    </tr>\n",
       "    <tr>\n",
       "      <th>32</th>\n",
       "      <td>Infosys</td>\n",
       "      <td>45.0</td>\n",
       "      <td>4034.0</td>\n",
       "      <td>Calcutta</td>\n",
       "      <td>India</td>\n",
       "      <td>0</td>\n",
       "    </tr>\n",
       "    <tr>\n",
       "      <th>39</th>\n",
       "      <td>Infosys</td>\n",
       "      <td>41.0</td>\n",
       "      <td>3000.0</td>\n",
       "      <td>Mumbai</td>\n",
       "      <td>India</td>\n",
       "      <td>0</td>\n",
       "    </tr>\n",
       "    <tr>\n",
       "      <th>50</th>\n",
       "      <td>Infosys</td>\n",
       "      <td>41.0</td>\n",
       "      <td>3000.0</td>\n",
       "      <td>Chennai</td>\n",
       "      <td>India</td>\n",
       "      <td>0</td>\n",
       "    </tr>\n",
       "    <tr>\n",
       "      <th>57</th>\n",
       "      <td>Infosys</td>\n",
       "      <td>51.0</td>\n",
       "      <td>3184.0</td>\n",
       "      <td>Hyderabad</td>\n",
       "      <td>India</td>\n",
       "      <td>0</td>\n",
       "    </tr>\n",
       "    <tr>\n",
       "      <th>68</th>\n",
       "      <td>Infosys</td>\n",
       "      <td>43.0</td>\n",
       "      <td>4034.0</td>\n",
       "      <td>Mumbai</td>\n",
       "      <td>India</td>\n",
       "      <td>0</td>\n",
       "    </tr>\n",
       "    <tr>\n",
       "      <th>75</th>\n",
       "      <td>Infosys</td>\n",
       "      <td>44.0</td>\n",
       "      <td>3000.0</td>\n",
       "      <td>Cochin</td>\n",
       "      <td>India</td>\n",
       "      <td>0</td>\n",
       "    </tr>\n",
       "    <tr>\n",
       "      <th>86</th>\n",
       "      <td>Infosys</td>\n",
       "      <td>41.0</td>\n",
       "      <td>3000.0</td>\n",
       "      <td>Delhi</td>\n",
       "      <td>India</td>\n",
       "      <td>0</td>\n",
       "    </tr>\n",
       "    <tr>\n",
       "      <th>93</th>\n",
       "      <td>Infosys</td>\n",
       "      <td>54.0</td>\n",
       "      <td>3184.0</td>\n",
       "      <td>Mumbai</td>\n",
       "      <td>India</td>\n",
       "      <td>0</td>\n",
       "    </tr>\n",
       "    <tr>\n",
       "      <th>104</th>\n",
       "      <td>Infosys</td>\n",
       "      <td>44.0</td>\n",
       "      <td>4034.0</td>\n",
       "      <td>Delhi</td>\n",
       "      <td>India</td>\n",
       "      <td>0</td>\n",
       "    </tr>\n",
       "    <tr>\n",
       "      <th>122</th>\n",
       "      <td>Infosys</td>\n",
       "      <td>44.0</td>\n",
       "      <td>3234.0</td>\n",
       "      <td>Mumbai</td>\n",
       "      <td>India</td>\n",
       "      <td>0</td>\n",
       "    </tr>\n",
       "    <tr>\n",
       "      <th>129</th>\n",
       "      <td>Infosys</td>\n",
       "      <td>50.0</td>\n",
       "      <td>3184.0</td>\n",
       "      <td>Calcutta</td>\n",
       "      <td>India</td>\n",
       "      <td>0</td>\n",
       "    </tr>\n",
       "    <tr>\n",
       "      <th>138</th>\n",
       "      <td>CTS</td>\n",
       "      <td>44.0</td>\n",
       "      <td>3033.0</td>\n",
       "      <td>Cochin</td>\n",
       "      <td>India</td>\n",
       "      <td>0</td>\n",
       "    </tr>\n",
       "    <tr>\n",
       "      <th>140</th>\n",
       "      <td>Infosys</td>\n",
       "      <td>44.0</td>\n",
       "      <td>4034.0</td>\n",
       "      <td>Hyderabad</td>\n",
       "      <td>India</td>\n",
       "      <td>0</td>\n",
       "    </tr>\n",
       "    <tr>\n",
       "      <th>145</th>\n",
       "      <td>Infosys</td>\n",
       "      <td>44.0</td>\n",
       "      <td>4034.0</td>\n",
       "      <td>Delhi</td>\n",
       "      <td>India</td>\n",
       "      <td>1</td>\n",
       "    </tr>\n",
       "  </tbody>\n",
       "</table>\n",
       "</div>"
      ],
      "text/plain": [
       "     Company   Age  Salary      Place Country  Gender\n",
       "21   Infosys  50.0  3184.0      Delhi   India       0\n",
       "32   Infosys  45.0  4034.0   Calcutta   India       0\n",
       "39   Infosys  41.0  3000.0     Mumbai   India       0\n",
       "50   Infosys  41.0  3000.0    Chennai   India       0\n",
       "57   Infosys  51.0  3184.0  Hyderabad   India       0\n",
       "68   Infosys  43.0  4034.0     Mumbai   India       0\n",
       "75   Infosys  44.0  3000.0     Cochin   India       0\n",
       "86   Infosys  41.0  3000.0      Delhi   India       0\n",
       "93   Infosys  54.0  3184.0     Mumbai   India       0\n",
       "104  Infosys  44.0  4034.0      Delhi   India       0\n",
       "122  Infosys  44.0  3234.0     Mumbai   India       0\n",
       "129  Infosys  50.0  3184.0   Calcutta   India       0\n",
       "138      CTS  44.0  3033.0     Cochin   India       0\n",
       "140  Infosys  44.0  4034.0  Hyderabad   India       0\n",
       "145  Infosys  44.0  4034.0      Delhi   India       1"
      ]
     },
     "execution_count": 278,
     "metadata": {},
     "output_type": "execute_result"
    }
   ],
   "source": [
    "filtered_data"
   ]
  },
  {
   "cell_type": "code",
   "execution_count": 279,
   "id": "0df102f9-cabb-4efb-9df2-3854d136652f",
   "metadata": {},
   "outputs": [
    {
     "data": {
      "image/png": "[encoded data removed]",
      "text/plain": [
       "<Figure size 1000x600 with 1 Axes>"
      ]
     },
     "metadata": {},
     "output_type": "display_data"
    }
   ],
   "source": [
    "plt.figure(figsize=(10,6))\n",
    "plt.scatter(filtered_data['Age'],filtered_data['Salary'])\n",
    "plt.title(\"Age vs Salary (Age > 40 and Salary < 5000)\")\n",
    "plt.xlabel('Age')\n",
    "plt.ylabel('Salary')\n",
    "plt.grid(True)\n",
    "plt.show()"
   ]
  },
  {
   "cell_type": "code",
   "execution_count": 280,
   "id": "82312a28-9419-464c-ae5e-fc0ded6bffd4",
   "metadata": {},
   "outputs": [
    {
     "data": {
      "image/png": "[encoded data removed]",
      "text/plain": [
       "<Figure size 1000x600 with 1 Axes>"
      ]
     },
     "metadata": {},
     "output_type": "display_data"
    }
   ],
   "source": [
    "\n",
    "df_sorted = df_new.sort_values(by='Age')\n",
    "plt.figure(figsize=(10, 6))\n",
    "plt.bar(df_sorted['Age'], df_sorted['Salary'], color='lightcoral', edgecolor='black')\n",
    "plt.title('Salary by Age')\n",
    "plt.xlabel('Age')\n",
    "plt.ylabel('Salary')\n",
    "plt.grid(axis='y', linestyle='--', alpha=0.7)\n",
    "plt.tight_layout()\n",
    "plt.show()\n"
   ]
  },
  {
   "cell_type": "code",
   "execution_count": 281,
   "id": "db0fd721-4182-49f5-a845-7b08c7aaf2d3",
   "metadata": {},
   "outputs": [
    {
     "name": "stdout",
     "output_type": "stream",
     "text": [
      "Place\n",
      "Mumbai        37\n",
      "Calcutta      33\n",
      "Chennai       14\n",
      "Delhi         14\n",
      "Cochin        13\n",
      "Noida          8\n",
      "Hyderabad      8\n",
      "Podicherry     3\n",
      "Pune           2\n",
      "Bhopal         1\n",
      "Nagpur         1\n",
      "Name: count, dtype: int64\n"
     ]
    }
   ],
   "source": [
    "place_counts = df['Place'].value_counts()\n",
    "print(place_counts)"
   ]
  },
  {
   "cell_type": "code",
   "execution_count": 282,
   "id": "44d4a8d1-f924-458d-9d32-b4dc87917d27",
   "metadata": {},
   "outputs": [
    {
     "data": {
      "image/png": "[encoded data removed]",
      "text/plain": [
       "<Figure size 1000x600 with 1 Axes>"
      ]
     },
     "metadata": {},
     "output_type": "display_data"
    }
   ],
   "source": [
    "plt.figure(figsize=(10, 6))\n",
    "place_counts.plot(kind='bar', color='c', alpha=0.7)\n",
    "plt.title('Number of People from Each Place')\n",
    "plt.xlabel('Place')\n",
    "plt.ylabel('Count')\n",
    "plt.xticks(rotation=45)\n",
    "plt.grid(axis='y', linestyle='--', alpha=0.7)\n",
    "plt.tight_layout()\n",
    "plt.show()\n"
   ]
  },
  {
   "cell_type": "markdown",
   "id": "fbefb8d1-4054-429f-ba33-33f65f98ef61",
   "metadata": {},
   "source": [
    "## Convert categorical variables into numerical representations using techniques such as one-hot encoding, label encoding, making them suitable for analysis by machine learning algorithms.\n"
   ]
  },
  {
   "cell_type": "markdown",
   "id": "30ab31ce-9161-4b81-a2f7-f4b6315678ca",
   "metadata": {},
   "source": [
    "one-hot encoding"
   ]
  },
  {
   "cell_type": "code",
   "execution_count": 283,
   "id": "72508772-c128-447f-bae3-57b27baacc2b",
   "metadata": {},
   "outputs": [
    {
     "name": "stdout",
     "output_type": "stream",
     "text": [
      "      Age  Salary Country  Gender  Company_CTS  Company_Congnizant  \\\n",
      "0    20.0     NaN   India       0        False               False   \n",
      "1    30.0     NaN   India       0        False               False   \n",
      "2    35.0  2300.0   India       0        False               False   \n",
      "3    40.0  3000.0   India       0        False               False   \n",
      "4    23.0  4000.0   India       0        False               False   \n",
      "..    ...     ...     ...     ...          ...                 ...   \n",
      "143  33.0  9024.0   India       1        False               False   \n",
      "144  22.0  8787.0   India       1        False               False   \n",
      "145  44.0  4034.0   India       1        False               False   \n",
      "146  33.0  5034.0   India       1        False               False   \n",
      "147  22.0  8202.0   India       0        False               False   \n",
      "\n",
      "     Company_Infosys  Company_Infosys Pvt Lmt  Company_TCS  \\\n",
      "0              False                    False         True   \n",
      "1               True                    False        False   \n",
      "2              False                    False         True   \n",
      "3               True                    False        False   \n",
      "4              False                    False         True   \n",
      "..               ...                      ...          ...   \n",
      "143            False                    False         True   \n",
      "144             True                    False        False   \n",
      "145             True                    False        False   \n",
      "146            False                    False         True   \n",
      "147             True                    False        False   \n",
      "\n",
      "     Company_Tata Consultancy Services  ...  Place_Calcutta  Place_Chennai  \\\n",
      "0                                False  ...           False           True   \n",
      "1                                False  ...           False          False   \n",
      "2                                False  ...            True          False   \n",
      "3                                False  ...           False          False   \n",
      "4                                False  ...           False          False   \n",
      "..                                 ...  ...             ...            ...   \n",
      "143                              False  ...            True          False   \n",
      "144                              False  ...            True          False   \n",
      "145                              False  ...           False          False   \n",
      "146                              False  ...           False          False   \n",
      "147                              False  ...           False          False   \n",
      "\n",
      "     Place_Cochin  Place_Delhi  Place_Hyderabad  Place_Mumbai  Place_Nagpur  \\\n",
      "0           False        False            False         False         False   \n",
      "1           False        False            False          True         False   \n",
      "2           False        False            False         False         False   \n",
      "3           False         True            False         False         False   \n",
      "4           False        False            False          True         False   \n",
      "..            ...          ...              ...           ...           ...   \n",
      "143         False        False            False         False         False   \n",
      "144         False        False            False         False         False   \n",
      "145         False         True            False         False         False   \n",
      "146         False        False            False          True         False   \n",
      "147          True        False            False         False         False   \n",
      "\n",
      "     Place_Noida  Place_Podicherry  Place_Pune  \n",
      "0          False             False       False  \n",
      "1          False             False       False  \n",
      "2          False             False       False  \n",
      "3          False             False       False  \n",
      "4          False             False       False  \n",
      "..           ...               ...         ...  \n",
      "143        False             False       False  \n",
      "144        False             False       False  \n",
      "145        False             False       False  \n",
      "146        False             False       False  \n",
      "147        False             False       False  \n",
      "\n",
      "[148 rows x 21 columns]\n"
     ]
    }
   ],
   "source": [
    "df_encoded = pd.get_dummies(df, columns=['Company','Place'])\n",
    "\n",
    "print(df_encoded)"
   ]
  },
  {
   "cell_type": "markdown",
   "id": "a7cc0f1c-c07b-4abf-978c-07ca20c41a7b",
   "metadata": {},
   "source": [
    "# Label Encoding"
   ]
  },
  {
   "cell_type": "code",
   "execution_count": 284,
   "id": "2903bb6a-1d58-495f-9ea7-b23a3a1bf96f",
   "metadata": {},
   "outputs": [],
   "source": [
    "from sklearn.preprocessing import LabelEncoder\n"
   ]
  },
  {
   "cell_type": "code",
   "execution_count": 285,
   "id": "0d315370-078d-485b-aea7-f00dda00ea85",
   "metadata": {},
   "outputs": [],
   "source": [
    "df_label_encoded=df_new.copy()"
   ]
  },
  {
   "cell_type": "code",
   "execution_count": 286,
   "id": "0a84d6fd-9e3d-4ff4-b8f2-a5db0697fc5f",
   "metadata": {},
   "outputs": [
    {
     "name": "stdout",
     "output_type": "stream",
     "text": [
      "     Company   Age  Salary  Place  Gender\n",
      "0          2  20.0  5000.0      2       0\n",
      "1          1  30.0  4034.0      6       0\n",
      "2          2  35.0  2300.0      1       0\n",
      "3          1  40.0  3000.0      4       0\n",
      "4          2  23.0  4000.0      6       0\n",
      "..       ...   ...     ...    ...     ...\n",
      "142        1  22.0  8202.0      6       0\n",
      "143        2  33.0  9024.0      1       1\n",
      "145        1  44.0  4034.0      4       1\n",
      "146        2  33.0  5034.0      6       1\n",
      "147        1  22.0  8202.0      3       0\n",
      "\n",
      "[123 rows x 5 columns]\n"
     ]
    }
   ],
   "source": [
    "le_Company=LabelEncoder()\n",
    "le_Palce=LabelEncoder()\n",
    "df_label_encoded['Company']=le_Company.fit_transform(df_label_encoded['Company'])\n",
    "df_label_encoded['Place']=le_Palce.fit_transform(df_label_encoded['Place'])\n",
    "print(df_label_encoded)"
   ]
  },
  {
   "cell_type": "markdown",
   "id": "a61d5f58-a557-45f7-805d-90bd7733dafb",
   "metadata": {},
   "source": [
    "# After the process of encoding, perform the scaling of the features using standardscaler and minmaxscaler.\n"
   ]
  },
  {
   "cell_type": "code",
   "execution_count": 288,
   "id": "033f921d-e107-415a-84cc-e3a80e986e8b",
   "metadata": {},
   "outputs": [],
   "source": [
    "from sklearn.preprocessing import StandardScaler\n",
    "\n",
    "standard_scaler=df_label_encoded.copy()\n",
    "scaler=StandardScaler()\n",
    "scaler.fit(standard_scaler)\n",
    "standard_scaler_df=scaler.transform(standard_scaler)"
   ]
  },
  {
   "cell_type": "code",
   "execution_count": 289,
   "id": "8e884fd2-35d5-4aa2-9ea8-caad1487b334",
   "metadata": {},
   "outputs": [
    {
     "data": {
      "text/plain": [
       "array([[ 0.7242523 , -1.4676354 ,  0.09676078, -0.79911997, -0.49236596],\n",
       "       [-1.21233538, -0.28699999, -0.29487714,  0.8122203 , -0.49236596],\n",
       "       [ 0.7242523 ,  0.30331772, -0.99787938, -1.20195504, -0.49236596],\n",
       "       [-1.21233538,  0.89363542, -0.71408378,  0.00655016, -0.49236596],\n",
       "       [ 0.7242523 , -1.11344478, -0.3086615 ,  0.8122203 , -0.49236596],\n",
       "       [-1.21233538,  0.06719063,  0.09676078, -1.20195504, -0.49236596],\n",
       "       [ 0.7242523 ,  0.06719063,  0.50218307, -0.79911997,  2.0310096 ],\n",
       "       [-1.21233538, -1.11344478,  0.90760535,  0.8122203 ,  2.0310096 ],\n",
       "       [ 0.7242523 ,  0.18525417,  1.31302763, -1.20195504,  2.0310096 ],\n",
       "       [ 0.7242523 ,  1.48395313,  1.71844991,  0.00655016, -0.49236596],\n",
       "       [ 0.7242523 , -1.11344478, -1.1057217 ,  0.8122203 , -0.49236596],\n",
       "       [ 0.7242523 ,  0.18525417, -1.48884576, -1.20195504, -0.49236596],\n",
       "       [ 0.7242523 ,  1.48395313, -1.1057217 , -0.79911997, -0.49236596],\n",
       "       [ 0.7242523 , -1.70376248, -1.43005953,  0.8122203 , -0.49236596],\n",
       "       [-1.21233538,  0.89363542, -0.71408378, -1.20195504, -0.49236596],\n",
       "       [ 0.7242523 , -1.11344478, -0.71408378,  0.00655016, -0.49236596],\n",
       "       [-1.21233538, -1.11344478, -0.70192111,  2.0207255 , -0.49236596],\n",
       "       [ 0.7242523 ,  0.18525417,  0.09676078, -0.3962849 , -0.49236596],\n",
       "       [ 0.7242523 , -1.23150832,  0.09676078, -0.79911997, -0.49236596],\n",
       "       [-1.21233538, -0.05087291, -0.29487714,  0.8122203 , -0.49236596],\n",
       "       [ 0.7242523 ,  0.5394448 , -0.69583978, -1.20195504, -0.49236596],\n",
       "       [-1.21233538,  2.07427083, -0.63948608,  0.00655016, -0.49236596],\n",
       "       [ 0.7242523 , -1.34957186,  0.02540646,  0.8122203 , -0.49236596],\n",
       "       [-1.21233538,  0.06719063,  0.43528839, -0.3962849 , -0.49236596],\n",
       "       [ 0.7242523 ,  0.06719063,  0.94166082, -0.79911997,  2.0310096 ],\n",
       "       [-1.21233538, -1.11344478,  1.69534084,  0.8122203 ,  2.0310096 ],\n",
       "       [ 0.7242523 ,  0.18525417,  1.45289832, -1.20195504,  2.0310096 ],\n",
       "       [ 0.7242523 ,  1.48395313,  1.83358984,  0.00655016,  2.0310096 ],\n",
       "       [ 0.7242523 , -1.11344478,  2.07359983,  0.8122203 ,  2.0310096 ],\n",
       "       [ 0.7242523 ,  0.30331772, -1.1057217 , -0.3962849 , -0.49236596],\n",
       "       [ 0.7242523 ,  1.60201667,  1.17275152, -0.79911997, -0.49236596],\n",
       "       [ 0.7242523 , -1.4676354 , -0.74084165,  0.8122203 , -0.49236596],\n",
       "       [-1.21233538,  1.48395313, -0.29487714, -1.20195504, -0.49236596],\n",
       "       [ 0.7242523 , -0.05087291,  0.09676078,  1.61789043, -0.49236596],\n",
       "       [ 0.7242523 ,  0.18525417, -0.99787938, -1.20195504, -0.49236596],\n",
       "       [-1.21233538,  1.01169896, -0.71408378,  0.8122203 , -0.49236596],\n",
       "       [ 0.7242523 , -0.99538124, -0.16879081, -1.20195504, -0.49236596],\n",
       "       [ 0.7242523 ,  0.30331772,  1.31302763,  1.61789043,  2.0310096 ],\n",
       "       [ 0.7242523 ,  1.60201667,  1.71844991,  0.40938523,  2.0310096 ],\n",
       "       [ 0.7242523 , -0.99538124, -1.1057217 , -1.20195504, -0.49236596],\n",
       "       [ 0.7242523 , -0.05087291, -1.48884576,  0.8122203 , -0.49236596],\n",
       "       [ 0.7242523 ,  1.24782604, -1.1057217 ,  0.8122203 , -0.49236596],\n",
       "       [ 0.7242523 , -1.58569894, -1.43005953, -0.3962849 , -0.49236596],\n",
       "       [-1.21233538,  1.01169896, -0.71408378, -0.79911997, -0.49236596],\n",
       "       [-1.21233538, -1.34957186, -0.70192111, -1.20195504, -0.49236596],\n",
       "       [ 0.7242523 ,  0.30331772,  0.09676078,  0.00655016, -0.49236596],\n",
       "       [ 0.7242523 , -1.34957186,  0.72273279,  0.8122203 , -0.49236596],\n",
       "       [-1.21233538, -0.05087291,  1.17275152, -0.3962849 , -0.49236596],\n",
       "       [ 0.7242523 ,  0.65750834, -0.69583978,  1.61789043, -0.49236596],\n",
       "       [-1.21233538,  2.19233437, -0.63948608,  0.40938523, -0.49236596],\n",
       "       [ 0.7242523 , -1.11344478,  0.02540646, -1.20195504, -0.49236596],\n",
       "       [-1.21233538,  0.06719063,  0.43528839,  0.8122203 , -0.49236596],\n",
       "       [ 0.7242523 ,  0.06719063,  0.94166082, -1.20195504, -0.49236596],\n",
       "       [ 0.7242523 , -0.16893645, -1.1057217 ,  0.40938523, -0.49236596],\n",
       "       [ 0.7242523 ,  1.01169896, -1.1057217 , -1.20195504, -0.49236596],\n",
       "       [-3.14892306, -1.34957186, -0.74084165,  0.8122203 , -0.49236596],\n",
       "       [-1.21233538,  1.24782604, -0.29487714,  0.8122203 , -0.49236596],\n",
       "       [ 0.7242523 , -0.05087291,  0.11054514, -0.3962849 , -0.49236596],\n",
       "       [-1.21233538, -1.34957186,  1.39492293, -0.79911997, -0.49236596],\n",
       "       [ 0.7242523 ,  0.18525417,  1.72818005,  0.8122203 ,  2.0310096 ],\n",
       "       [ 0.7242523 , -0.99538124,  0.09676078, -1.20195504, -0.49236596],\n",
       "       [-1.21233538,  0.18525417, -0.29487714,  0.00655016, -0.49236596],\n",
       "       [ 0.7242523 ,  0.5394448 , -0.99787938,  0.8122203 , -0.49236596],\n",
       "       [-1.21233538,  1.36588958, -0.71408378, -0.3962849 , -0.49236596],\n",
       "       [ 0.7242523 , -0.05087291, -0.3086615 ,  1.61789043, -0.49236596],\n",
       "       [-1.21233538,  0.06719063,  0.09676078,  0.40938523, -0.49236596],\n",
       "       [ 0.7242523 ,  0.06719063,  0.50218307, -1.20195504, -0.49236596],\n",
       "       [-1.21233538, -0.75925415,  0.90760535, -1.60479011, -0.49236596],\n",
       "       [ 0.7242523 , -0.05087291,  1.31302763,  1.21505537, -0.49236596],\n",
       "       [ 0.7242523 ,  1.24782604,  1.71844991,  2.42356057,  2.0310096 ],\n",
       "       [ 0.7242523 , -1.23150832, -1.1057217 ,  2.42356057, -0.49236596],\n",
       "       [ 0.7242523 ,  0.06719063, -1.48884576, -0.79911997, -0.49236596],\n",
       "       [ 0.7242523 , -1.82182602, -1.43005953, -1.20195504, -0.49236596],\n",
       "       [-1.21233538,  1.01169896, -0.71408378,  0.00655016, -0.49236596],\n",
       "       [ 0.7242523 , -1.34957186, -0.71408378,  0.8122203 , -0.49236596],\n",
       "       [-1.21233538,  0.06719063, -0.70192111, -1.20195504, -0.49236596],\n",
       "       [ 0.7242523 ,  0.42138126,  0.09676078, -0.79911997, -0.49236596],\n",
       "       [ 0.7242523 , -1.34957186,  0.09676078,  0.8122203 , -0.49236596],\n",
       "       [-1.21233538,  0.18525417, -0.29487714, -1.20195504, -0.49236596],\n",
       "       [ 0.7242523 ,  0.06719063, -0.69583978,  0.00655016, -0.49236596],\n",
       "       [-1.21233538,  2.54652499, -0.63948608,  0.8122203 , -0.49236596],\n",
       "       [ 0.7242523 , -1.23150832,  0.02540646, -1.20195504, -0.49236596],\n",
       "       [-1.21233538,  0.06719063,  0.43528839, -0.79911997, -0.49236596],\n",
       "       [ 0.7242523 ,  0.06719063,  0.94166082,  0.8122203 ,  2.0310096 ],\n",
       "       [-1.21233538, -1.23150832,  1.69534084, -1.20195504,  2.0310096 ],\n",
       "       [ 0.7242523 ,  0.06719063,  1.45289832,  0.00655016,  2.0310096 ],\n",
       "       [ 0.7242523 ,  1.36588958,  1.83358984,  2.0207255 ,  2.0310096 ],\n",
       "       [ 0.7242523 , -1.23150832, -1.1057217 , -0.3962849 , -0.49236596],\n",
       "       [ 0.7242523 ,  0.06719063, -1.1057217 ,  2.0207255 , -0.49236596],\n",
       "       [ 0.7242523 ,  1.36588958, -1.1057217 ,  0.8122203 , -0.49236596],\n",
       "       [ 0.7242523 , -1.23150832, -0.74084165, -1.20195504, -0.49236596],\n",
       "       [-1.21233538,  1.36588958, -0.29487714,  0.00655016, -0.49236596],\n",
       "       [ 0.7242523 ,  0.06719063,  0.11054514,  0.8122203 , -0.49236596],\n",
       "       [-1.21233538, -1.23150832,  1.39492293, -0.3962849 ,  2.0310096 ],\n",
       "       [ 0.7242523 ,  0.06719063,  1.72818005, -0.79911997,  2.0310096 ],\n",
       "       [ 0.7242523 ,  0.06719063,  0.09676078,  0.8122203 , -0.49236596],\n",
       "       [ 0.7242523 ,  0.06719063, -0.99787938,  0.00655016, -0.49236596],\n",
       "       [-1.21233538,  0.06719063, -0.61921496,  0.8122203 , -0.49236596],\n",
       "       [ 0.7242523 , -1.23150832, -0.17730468, -0.3962849 , -0.49236596],\n",
       "       [-1.21233538,  0.06719063,  0.27311948, -0.79911997, -0.49236596],\n",
       "       [ 0.7242523 ,  0.06719063,  0.32177015,  0.8122203 , -0.49236596],\n",
       "       [-1.21233538, -1.23150832,  1.63209496, -1.20195504, -0.49236596],\n",
       "       [ 0.7242523 ,  0.06719063, -1.48884576,  1.61789043, -0.49236596],\n",
       "       [ 0.7242523 ,  1.36588958, -1.1057217 ,  0.40938523, -0.49236596],\n",
       "       [ 0.7242523 ,  0.06719063, -1.43005953, -1.20195504, -0.49236596],\n",
       "       [-1.21233538,  1.36588958, -0.61921496,  0.8122203 , -0.49236596],\n",
       "       [-1.21233538, -1.23150832,  1.63209496, -1.20195504,  2.0310096 ],\n",
       "       [-1.21233538, -0.28699999,  0.13649217,  1.61789043, -0.49236596],\n",
       "       [ 0.7242523 ,  0.06719063, -0.69583978,  0.40938523, -0.49236596],\n",
       "       [-1.21233538,  2.07427083, -0.63948608, -1.20195504, -0.49236596],\n",
       "       [ 0.7242523 ,  0.06719063,  0.94166082, -0.3962849 ,  2.0310096 ],\n",
       "       [ 0.7242523 , -0.16893645,  1.45289832,  0.8122203 , -0.49236596],\n",
       "       [ 0.7242523 ,  0.89363542,  1.83358984, -1.20195504,  2.0310096 ],\n",
       "       [ 0.7242523 , -0.16893645, -1.1057217 ,  0.8122203 , -0.49236596],\n",
       "       [ 0.7242523 ,  1.36588958, -0.70070484, -0.3962849 , -0.49236596],\n",
       "       [-3.14892306, -1.23150832, -0.74084165,  1.61789043, -0.49236596],\n",
       "       [-1.21233538,  1.36588958, -0.29487714,  0.40938523, -0.49236596],\n",
       "       [ 0.7242523 ,  0.06719063,  0.11054514, -1.20195504, -0.49236596],\n",
       "       [-1.21233538, -1.23150832,  1.39492293,  0.8122203 , -0.49236596],\n",
       "       [ 0.7242523 ,  0.06719063,  1.72818005, -1.20195504,  2.0310096 ],\n",
       "       [-1.21233538,  1.36588958, -0.29487714,  0.00655016,  2.0310096 ],\n",
       "       [ 0.7242523 ,  0.06719063,  0.11054514,  0.8122203 ,  2.0310096 ],\n",
       "       [-1.21233538, -1.23150832,  1.39492293, -0.3962849 , -0.49236596]])"
      ]
     },
     "execution_count": 289,
     "metadata": {},
     "output_type": "execute_result"
    }
   ],
   "source": [
    "standard_scaler_df"
   ]
  },
  {
   "cell_type": "code",
   "execution_count": 290,
   "id": "b6be9765-3ff2-4feb-8398-1d05c38b3688",
   "metadata": {},
   "outputs": [
    {
     "name": "stdout",
     "output_type": "stream",
     "text": [
      "5\n"
     ]
    }
   ],
   "source": [
    "print(len(standard_scaler_df[0]))"
   ]
  },
  {
   "cell_type": "code",
   "execution_count": 293,
   "id": "999dd3b4-1d5c-4da1-823d-92218e10cb8c",
   "metadata": {},
   "outputs": [],
   "source": [
    "from sklearn.preprocessing import MinMaxScaler\n",
    "min_max=df_label_encoded.copy()\n",
    "min_scaler=MinMaxScaler()\n",
    "min_scaler.fit(min_max)\n",
    "min_scaler_df=min_scaler.transform(min_max)"
   ]
  },
  {
   "cell_type": "code",
   "execution_count": 294,
   "id": "c851d004-5f8d-4fe4-aa34-1ed108958a1b",
   "metadata": {},
   "outputs": [
    {
     "data": {
      "text/plain": [
       "array([[1.        , 0.08108108, 0.44508934, 0.2       , 0.        ],\n",
       "       [0.5       , 0.35135135, 0.33515421, 0.6       , 0.        ],\n",
       "       [1.        , 0.48648649, 0.13781723, 0.1       , 0.        ],\n",
       "       [0.5       , 0.62162162, 0.21748037, 0.4       , 0.        ],\n",
       "       [1.        , 0.16216216, 0.33128485, 0.6       , 0.        ],\n",
       "       [0.5       , 0.43243243, 0.44508934, 0.1       , 0.        ],\n",
       "       [1.        , 0.43243243, 0.55889382, 0.2       , 1.        ],\n",
       "       [0.5       , 0.16216216, 0.6726983 , 0.6       , 1.        ],\n",
       "       [1.        , 0.45945946, 0.78650279, 0.1       , 1.        ],\n",
       "       [1.        , 0.75675676, 0.90030727, 0.4       , 0.        ],\n",
       "       [1.        , 0.16216216, 0.10754524, 0.6       , 0.        ],\n",
       "       [1.        , 0.45945946, 0.        , 0.1       , 0.        ],\n",
       "       [1.        , 0.75675676, 0.10754524, 0.2       , 0.        ],\n",
       "       [1.        , 0.02702703, 0.01650165, 0.6       , 0.        ],\n",
       "       [0.5       , 0.62162162, 0.21748037, 0.1       , 0.        ],\n",
       "       [1.        , 0.16216216, 0.21748037, 0.4       , 0.        ],\n",
       "       [0.5       , 0.16216216, 0.2208945 , 0.9       , 0.        ],\n",
       "       [1.        , 0.45945946, 0.44508934, 0.3       , 0.        ],\n",
       "       [1.        , 0.13513514, 0.44508934, 0.2       , 0.        ],\n",
       "       [0.5       , 0.40540541, 0.33515421, 0.6       , 0.        ],\n",
       "       [1.        , 0.54054054, 0.22260157, 0.1       , 0.        ],\n",
       "       [0.5       , 0.89189189, 0.23842039, 0.4       , 0.        ],\n",
       "       [1.        , 0.10810811, 0.42505975, 0.6       , 0.        ],\n",
       "       [0.5       , 0.43243243, 0.54011608, 0.3       , 0.        ],\n",
       "       [1.        , 0.43243243, 0.68225788, 0.2       , 1.        ],\n",
       "       [0.5       , 0.16216216, 0.89382042, 0.6       , 1.        ],\n",
       "       [1.        , 0.45945946, 0.82576534, 0.1       , 1.        ],\n",
       "       [1.        , 0.75675676, 0.93262775, 0.4       , 1.        ],\n",
       "       [1.        , 0.16216216, 1.        , 0.6       , 1.        ],\n",
       "       [1.        , 0.48648649, 0.10754524, 0.3       , 0.        ],\n",
       "       [1.        , 0.78378378, 0.74712644, 0.2       , 0.        ],\n",
       "       [1.        , 0.08108108, 0.20996927, 0.6       , 0.        ],\n",
       "       [0.5       , 0.75675676, 0.33515421, 0.1       , 0.        ],\n",
       "       [1.        , 0.40540541, 0.44508934, 0.8       , 0.        ],\n",
       "       [1.        , 0.45945946, 0.13781723, 0.1       , 0.        ],\n",
       "       [0.5       , 0.64864865, 0.21748037, 0.6       , 0.        ],\n",
       "       [1.        , 0.18918919, 0.3705474 , 0.1       , 0.        ],\n",
       "       [1.        , 0.48648649, 0.78650279, 0.8       , 1.        ],\n",
       "       [1.        , 0.78378378, 0.90030727, 0.5       , 1.        ],\n",
       "       [1.        , 0.18918919, 0.10754524, 0.1       , 0.        ],\n",
       "       [1.        , 0.40540541, 0.        , 0.6       , 0.        ],\n",
       "       [1.        , 0.7027027 , 0.10754524, 0.6       , 0.        ],\n",
       "       [1.        , 0.05405405, 0.01650165, 0.3       , 0.        ],\n",
       "       [0.5       , 0.64864865, 0.21748037, 0.2       , 0.        ],\n",
       "       [0.5       , 0.10810811, 0.2208945 , 0.1       , 0.        ],\n",
       "       [1.        , 0.48648649, 0.44508934, 0.4       , 0.        ],\n",
       "       [1.        , 0.10810811, 0.62080346, 0.6       , 0.        ],\n",
       "       [0.5       , 0.40540541, 0.74712644, 0.3       , 0.        ],\n",
       "       [1.        , 0.56756757, 0.22260157, 0.8       , 0.        ],\n",
       "       [0.5       , 0.91891892, 0.23842039, 0.5       , 0.        ],\n",
       "       [1.        , 0.16216216, 0.42505975, 0.1       , 0.        ],\n",
       "       [0.5       , 0.43243243, 0.54011608, 0.6       , 0.        ],\n",
       "       [1.        , 0.43243243, 0.68225788, 0.1       , 0.        ],\n",
       "       [1.        , 0.37837838, 0.10754524, 0.5       , 0.        ],\n",
       "       [1.        , 0.64864865, 0.10754524, 0.1       , 0.        ],\n",
       "       [0.        , 0.10810811, 0.20996927, 0.6       , 0.        ],\n",
       "       [0.5       , 0.7027027 , 0.33515421, 0.6       , 0.        ],\n",
       "       [1.        , 0.40540541, 0.44895869, 0.3       , 0.        ],\n",
       "       [0.5       , 0.10810811, 0.80949129, 0.2       , 0.        ],\n",
       "       [1.        , 0.45945946, 0.90303858, 0.6       , 1.        ],\n",
       "       [1.        , 0.18918919, 0.44508934, 0.1       , 0.        ],\n",
       "       [0.5       , 0.45945946, 0.33515421, 0.4       , 0.        ],\n",
       "       [1.        , 0.54054054, 0.13781723, 0.6       , 0.        ],\n",
       "       [0.5       , 0.72972973, 0.21748037, 0.3       , 0.        ],\n",
       "       [1.        , 0.40540541, 0.33128485, 0.8       , 0.        ],\n",
       "       [0.5       , 0.43243243, 0.44508934, 0.5       , 0.        ],\n",
       "       [1.        , 0.43243243, 0.55889382, 0.1       , 0.        ],\n",
       "       [0.5       , 0.24324324, 0.6726983 , 0.        , 0.        ],\n",
       "       [1.        , 0.40540541, 0.78650279, 0.7       , 0.        ],\n",
       "       [1.        , 0.7027027 , 0.90030727, 1.        , 1.        ],\n",
       "       [1.        , 0.13513514, 0.10754524, 1.        , 0.        ],\n",
       "       [1.        , 0.43243243, 0.        , 0.2       , 0.        ],\n",
       "       [1.        , 0.        , 0.01650165, 0.1       , 0.        ],\n",
       "       [0.5       , 0.64864865, 0.21748037, 0.4       , 0.        ],\n",
       "       [1.        , 0.10810811, 0.21748037, 0.6       , 0.        ],\n",
       "       [0.5       , 0.43243243, 0.2208945 , 0.1       , 0.        ],\n",
       "       [1.        , 0.51351351, 0.44508934, 0.2       , 0.        ],\n",
       "       [1.        , 0.10810811, 0.44508934, 0.6       , 0.        ],\n",
       "       [0.5       , 0.45945946, 0.33515421, 0.1       , 0.        ],\n",
       "       [1.        , 0.43243243, 0.22260157, 0.4       , 0.        ],\n",
       "       [0.5       , 1.        , 0.23842039, 0.6       , 0.        ],\n",
       "       [1.        , 0.13513514, 0.42505975, 0.1       , 0.        ],\n",
       "       [0.5       , 0.43243243, 0.54011608, 0.2       , 0.        ],\n",
       "       [1.        , 0.43243243, 0.68225788, 0.6       , 1.        ],\n",
       "       [0.5       , 0.13513514, 0.89382042, 0.1       , 1.        ],\n",
       "       [1.        , 0.43243243, 0.82576534, 0.4       , 1.        ],\n",
       "       [1.        , 0.72972973, 0.93262775, 0.9       , 1.        ],\n",
       "       [1.        , 0.13513514, 0.10754524, 0.3       , 0.        ],\n",
       "       [1.        , 0.43243243, 0.10754524, 0.9       , 0.        ],\n",
       "       [1.        , 0.72972973, 0.10754524, 0.6       , 0.        ],\n",
       "       [1.        , 0.13513514, 0.20996927, 0.1       , 0.        ],\n",
       "       [0.5       , 0.72972973, 0.33515421, 0.4       , 0.        ],\n",
       "       [1.        , 0.43243243, 0.44895869, 0.6       , 0.        ],\n",
       "       [0.5       , 0.13513514, 0.80949129, 0.3       , 1.        ],\n",
       "       [1.        , 0.43243243, 0.90303858, 0.2       , 1.        ],\n",
       "       [1.        , 0.43243243, 0.44508934, 0.6       , 0.        ],\n",
       "       [1.        , 0.43243243, 0.13781723, 0.4       , 0.        ],\n",
       "       [0.5       , 0.43243243, 0.24411062, 0.6       , 0.        ],\n",
       "       [1.        , 0.13513514, 0.36815751, 0.3       , 0.        ],\n",
       "       [0.5       , 0.43243243, 0.49459429, 0.2       , 0.        ],\n",
       "       [1.        , 0.43243243, 0.50825083, 0.6       , 0.        ],\n",
       "       [0.5       , 0.13513514, 0.87606692, 0.1       , 0.        ],\n",
       "       [1.        , 0.43243243, 0.        , 0.8       , 0.        ],\n",
       "       [1.        , 0.72972973, 0.10754524, 0.5       , 0.        ],\n",
       "       [1.        , 0.43243243, 0.01650165, 0.1       , 0.        ],\n",
       "       [0.5       , 0.72972973, 0.24411062, 0.6       , 0.        ],\n",
       "       [0.5       , 0.13513514, 0.87606692, 0.1       , 1.        ],\n",
       "       [0.5       , 0.35135135, 0.45624218, 0.8       , 0.        ],\n",
       "       [1.        , 0.43243243, 0.22260157, 0.5       , 0.        ],\n",
       "       [0.5       , 0.89189189, 0.23842039, 0.1       , 0.        ],\n",
       "       [1.        , 0.43243243, 0.68225788, 0.3       , 1.        ],\n",
       "       [1.        , 0.37837838, 0.82576534, 0.6       , 0.        ],\n",
       "       [1.        , 0.62162162, 0.93262775, 0.1       , 1.        ],\n",
       "       [1.        , 0.37837838, 0.10754524, 0.6       , 0.        ],\n",
       "       [1.        , 0.72972973, 0.22123592, 0.3       , 0.        ],\n",
       "       [0.        , 0.13513514, 0.20996927, 0.8       , 0.        ],\n",
       "       [0.5       , 0.72972973, 0.33515421, 0.5       , 0.        ],\n",
       "       [1.        , 0.43243243, 0.44895869, 0.1       , 0.        ],\n",
       "       [0.5       , 0.13513514, 0.80949129, 0.6       , 0.        ],\n",
       "       [1.        , 0.43243243, 0.90303858, 0.1       , 1.        ],\n",
       "       [0.5       , 0.72972973, 0.33515421, 0.4       , 1.        ],\n",
       "       [1.        , 0.43243243, 0.44895869, 0.6       , 1.        ],\n",
       "       [0.5       , 0.13513514, 0.80949129, 0.3       , 0.        ]])"
      ]
     },
     "execution_count": 294,
     "metadata": {},
     "output_type": "execute_result"
    }
   ],
   "source": [
    "min_scaler_df"
   ]
  },
  {
   "cell_type": "code",
   "execution_count": 296,
   "id": "ad0f9d2f-8f3c-41c0-a63b-74a11c98ee89",
   "metadata": {},
   "outputs": [
    {
     "name": "stdout",
     "output_type": "stream",
     "text": [
      "5\n"
     ]
    }
   ],
   "source": [
    "print(len(min_scaler_df[0]))"
   ]
  },
  {
   "cell_type": "code",
   "execution_count": null,
   "id": "c27bccfc-be81-4fff-9243-cc5d5abf7ab1",
   "metadata": {},
   "outputs": [],
   "source": []
  },
  {
   "cell_type": "code",
   "execution_count": null,
   "id": "4bb5a2eb-aea6-4cca-8756-e3ff918e9720",
   "metadata": {},
   "outputs": [],
   "source": []
  },
  {
   "cell_type": "code",
   "execution_count": null,
   "id": "79eac5cd-e341-457f-b1ec-135a7f916af2",
   "metadata": {},
   "outputs": [],
   "source": []
  }
 ],
 "metadata": {
  "kernelspec": {
   "display_name": "Python 3 (ipykernel)",
   "language": "python",
   "name": "python3"
  },
  "language_info": {
   "codemirror_mode": {
    "name": "ipython",
    "version": 3
   },
   "file_extension": ".py",
   "mimetype": "text/x-python",
   "name": "python",
   "nbconvert_exporter": "python",
   "pygments_lexer": "ipython3",
   "version": "3.12.7"
  }
 },
 "nbformat": 4,
 "nbformat_minor": 5
}
